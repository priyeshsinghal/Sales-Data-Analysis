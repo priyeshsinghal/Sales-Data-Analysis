{
  "nbformat": 4,
  "nbformat_minor": 0,
  "metadata": {
    "colab": {
      "provenance": []
    },
    "kernelspec": {
      "name": "python3",
      "display_name": "Python 3"
    },
    "language_info": {
      "name": "python"
    }
  },
  "cells": [
    {
      "cell_type": "code",
      "execution_count": 1,
      "metadata": {
        "colab": {
          "base_uri": "https://localhost:8080/",
          "height": 423
        },
        "id": "A-0VAjGGqjxL",
        "outputId": "62070ef5-7cd9-450f-b0aa-93a85893ee79"
      },
      "outputs": [
        {
          "output_type": "execute_result",
          "data": {
            "text/plain": [
              "          Sno.  Order ID                 Product  Quantity Ordered  \\\n",
              "0            1    295665      Macbook Pro Laptop                 1   \n",
              "1            2    295666      LG Washing Machine                 1   \n",
              "2            3    295667    USB-C Charging Cable                 1   \n",
              "3            4    295668        27in FHD Monitor                 1   \n",
              "4            5    295669    USB-C Charging Cable                 1   \n",
              "...        ...       ...                     ...               ...   \n",
              "185945  185946    222905  AAA Batteries (4-pack)                 1   \n",
              "185946  185947    222906        27in FHD Monitor                 1   \n",
              "185947  185948    222907    USB-C Charging Cable                 1   \n",
              "185948  185949    222908    USB-C Charging Cable                 1   \n",
              "185949  185950    222909  AAA Batteries (4-pack)                 1   \n",
              "\n",
              "        Price Each  Order Date                        Purchase Address  Month  \\\n",
              "0          1700.00  30/12/2019  136 Church St, New York City, NY 10001     12   \n",
              "1           600.00  29/12/2019     562 2nd St, New York City, NY 10001     12   \n",
              "2            11.95  12/12/2019    277 Main St, New York City, NY 10001     12   \n",
              "3           149.99  22/12/2019     410 6th St, San Francisco, CA 94016     12   \n",
              "4            11.95  18/12/2019           43 Hill St, Atlanta, GA 30301     12   \n",
              "...            ...         ...                                     ...    ...   \n",
              "185945        2.99  07/06/2019           795 Pine St, Boston, MA 02215      6   \n",
              "185946      149.99  01/06/2019   495 North St, New York City, NY 10001      6   \n",
              "185947       11.95  22/06/2019   319 Ridge St, San Francisco, CA 94016      6   \n",
              "185948       11.95  26/06/2019    916 Main St, San Francisco, CA 94016      6   \n",
              "185949        2.99  25/06/2019          209 11th St, Atlanta, GA 30301      6   \n",
              "\n",
              "          Sales            City  Hour  \n",
              "0       1700.00   New York City     0  \n",
              "1        600.00   New York City     7  \n",
              "2         11.95   New York City    18  \n",
              "3        149.99   San Francisco    15  \n",
              "4         11.95         Atlanta    12  \n",
              "...         ...             ...   ...  \n",
              "185945     2.99          Boston    19  \n",
              "185946   149.99   New York City    19  \n",
              "185947    11.95   San Francisco    18  \n",
              "185948    11.95   San Francisco    18  \n",
              "185949     2.99         Atlanta    14  \n",
              "\n",
              "[185950 rows x 11 columns]"
            ],
            "text/html": [
              "\n",
              "  <div id=\"df-418f2562-6672-47ca-9d23-f124b4ccb104\" class=\"colab-df-container\">\n",
              "    <div>\n",
              "<style scoped>\n",
              "    .dataframe tbody tr th:only-of-type {\n",
              "        vertical-align: middle;\n",
              "    }\n",
              "\n",
              "    .dataframe tbody tr th {\n",
              "        vertical-align: top;\n",
              "    }\n",
              "\n",
              "    .dataframe thead th {\n",
              "        text-align: right;\n",
              "    }\n",
              "</style>\n",
              "<table border=\"1\" class=\"dataframe\">\n",
              "  <thead>\n",
              "    <tr style=\"text-align: right;\">\n",
              "      <th></th>\n",
              "      <th>Sno.</th>\n",
              "      <th>Order ID</th>\n",
              "      <th>Product</th>\n",
              "      <th>Quantity Ordered</th>\n",
              "      <th>Price Each</th>\n",
              "      <th>Order Date</th>\n",
              "      <th>Purchase Address</th>\n",
              "      <th>Month</th>\n",
              "      <th>Sales</th>\n",
              "      <th>City</th>\n",
              "      <th>Hour</th>\n",
              "    </tr>\n",
              "  </thead>\n",
              "  <tbody>\n",
              "    <tr>\n",
              "      <th>0</th>\n",
              "      <td>1</td>\n",
              "      <td>295665</td>\n",
              "      <td>Macbook Pro Laptop</td>\n",
              "      <td>1</td>\n",
              "      <td>1700.00</td>\n",
              "      <td>30/12/2019</td>\n",
              "      <td>136 Church St, New York City, NY 10001</td>\n",
              "      <td>12</td>\n",
              "      <td>1700.00</td>\n",
              "      <td>New York City</td>\n",
              "      <td>0</td>\n",
              "    </tr>\n",
              "    <tr>\n",
              "      <th>1</th>\n",
              "      <td>2</td>\n",
              "      <td>295666</td>\n",
              "      <td>LG Washing Machine</td>\n",
              "      <td>1</td>\n",
              "      <td>600.00</td>\n",
              "      <td>29/12/2019</td>\n",
              "      <td>562 2nd St, New York City, NY 10001</td>\n",
              "      <td>12</td>\n",
              "      <td>600.00</td>\n",
              "      <td>New York City</td>\n",
              "      <td>7</td>\n",
              "    </tr>\n",
              "    <tr>\n",
              "      <th>2</th>\n",
              "      <td>3</td>\n",
              "      <td>295667</td>\n",
              "      <td>USB-C Charging Cable</td>\n",
              "      <td>1</td>\n",
              "      <td>11.95</td>\n",
              "      <td>12/12/2019</td>\n",
              "      <td>277 Main St, New York City, NY 10001</td>\n",
              "      <td>12</td>\n",
              "      <td>11.95</td>\n",
              "      <td>New York City</td>\n",
              "      <td>18</td>\n",
              "    </tr>\n",
              "    <tr>\n",
              "      <th>3</th>\n",
              "      <td>4</td>\n",
              "      <td>295668</td>\n",
              "      <td>27in FHD Monitor</td>\n",
              "      <td>1</td>\n",
              "      <td>149.99</td>\n",
              "      <td>22/12/2019</td>\n",
              "      <td>410 6th St, San Francisco, CA 94016</td>\n",
              "      <td>12</td>\n",
              "      <td>149.99</td>\n",
              "      <td>San Francisco</td>\n",
              "      <td>15</td>\n",
              "    </tr>\n",
              "    <tr>\n",
              "      <th>4</th>\n",
              "      <td>5</td>\n",
              "      <td>295669</td>\n",
              "      <td>USB-C Charging Cable</td>\n",
              "      <td>1</td>\n",
              "      <td>11.95</td>\n",
              "      <td>18/12/2019</td>\n",
              "      <td>43 Hill St, Atlanta, GA 30301</td>\n",
              "      <td>12</td>\n",
              "      <td>11.95</td>\n",
              "      <td>Atlanta</td>\n",
              "      <td>12</td>\n",
              "    </tr>\n",
              "    <tr>\n",
              "      <th>...</th>\n",
              "      <td>...</td>\n",
              "      <td>...</td>\n",
              "      <td>...</td>\n",
              "      <td>...</td>\n",
              "      <td>...</td>\n",
              "      <td>...</td>\n",
              "      <td>...</td>\n",
              "      <td>...</td>\n",
              "      <td>...</td>\n",
              "      <td>...</td>\n",
              "      <td>...</td>\n",
              "    </tr>\n",
              "    <tr>\n",
              "      <th>185945</th>\n",
              "      <td>185946</td>\n",
              "      <td>222905</td>\n",
              "      <td>AAA Batteries (4-pack)</td>\n",
              "      <td>1</td>\n",
              "      <td>2.99</td>\n",
              "      <td>07/06/2019</td>\n",
              "      <td>795 Pine St, Boston, MA 02215</td>\n",
              "      <td>6</td>\n",
              "      <td>2.99</td>\n",
              "      <td>Boston</td>\n",
              "      <td>19</td>\n",
              "    </tr>\n",
              "    <tr>\n",
              "      <th>185946</th>\n",
              "      <td>185947</td>\n",
              "      <td>222906</td>\n",
              "      <td>27in FHD Monitor</td>\n",
              "      <td>1</td>\n",
              "      <td>149.99</td>\n",
              "      <td>01/06/2019</td>\n",
              "      <td>495 North St, New York City, NY 10001</td>\n",
              "      <td>6</td>\n",
              "      <td>149.99</td>\n",
              "      <td>New York City</td>\n",
              "      <td>19</td>\n",
              "    </tr>\n",
              "    <tr>\n",
              "      <th>185947</th>\n",
              "      <td>185948</td>\n",
              "      <td>222907</td>\n",
              "      <td>USB-C Charging Cable</td>\n",
              "      <td>1</td>\n",
              "      <td>11.95</td>\n",
              "      <td>22/06/2019</td>\n",
              "      <td>319 Ridge St, San Francisco, CA 94016</td>\n",
              "      <td>6</td>\n",
              "      <td>11.95</td>\n",
              "      <td>San Francisco</td>\n",
              "      <td>18</td>\n",
              "    </tr>\n",
              "    <tr>\n",
              "      <th>185948</th>\n",
              "      <td>185949</td>\n",
              "      <td>222908</td>\n",
              "      <td>USB-C Charging Cable</td>\n",
              "      <td>1</td>\n",
              "      <td>11.95</td>\n",
              "      <td>26/06/2019</td>\n",
              "      <td>916 Main St, San Francisco, CA 94016</td>\n",
              "      <td>6</td>\n",
              "      <td>11.95</td>\n",
              "      <td>San Francisco</td>\n",
              "      <td>18</td>\n",
              "    </tr>\n",
              "    <tr>\n",
              "      <th>185949</th>\n",
              "      <td>185950</td>\n",
              "      <td>222909</td>\n",
              "      <td>AAA Batteries (4-pack)</td>\n",
              "      <td>1</td>\n",
              "      <td>2.99</td>\n",
              "      <td>25/06/2019</td>\n",
              "      <td>209 11th St, Atlanta, GA 30301</td>\n",
              "      <td>6</td>\n",
              "      <td>2.99</td>\n",
              "      <td>Atlanta</td>\n",
              "      <td>14</td>\n",
              "    </tr>\n",
              "  </tbody>\n",
              "</table>\n",
              "<p>185950 rows × 11 columns</p>\n",
              "</div>\n",
              "    <div class=\"colab-df-buttons\">\n",
              "\n",
              "  <div class=\"colab-df-container\">\n",
              "    <button class=\"colab-df-convert\" onclick=\"convertToInteractive('df-418f2562-6672-47ca-9d23-f124b4ccb104')\"\n",
              "            title=\"Convert this dataframe to an interactive table.\"\n",
              "            style=\"display:none;\">\n",
              "\n",
              "  <svg xmlns=\"http://www.w3.org/2000/svg\" height=\"24px\" viewBox=\"0 -960 960 960\">\n",
              "    <path d=\"M120-120v-720h720v720H120Zm60-500h600v-160H180v160Zm220 220h160v-160H400v160Zm0 220h160v-160H400v160ZM180-400h160v-160H180v160Zm440 0h160v-160H620v160ZM180-180h160v-160H180v160Zm440 0h160v-160H620v160Z\"/>\n",
              "  </svg>\n",
              "    </button>\n",
              "\n",
              "  <style>\n",
              "    .colab-df-container {\n",
              "      display:flex;\n",
              "      gap: 12px;\n",
              "    }\n",
              "\n",
              "    .colab-df-convert {\n",
              "      background-color: #E8F0FE;\n",
              "      border: none;\n",
              "      border-radius: 50%;\n",
              "      cursor: pointer;\n",
              "      display: none;\n",
              "      fill: #1967D2;\n",
              "      height: 32px;\n",
              "      padding: 0 0 0 0;\n",
              "      width: 32px;\n",
              "    }\n",
              "\n",
              "    .colab-df-convert:hover {\n",
              "      background-color: #E2EBFA;\n",
              "      box-shadow: 0px 1px 2px rgba(60, 64, 67, 0.3), 0px 1px 3px 1px rgba(60, 64, 67, 0.15);\n",
              "      fill: #174EA6;\n",
              "    }\n",
              "\n",
              "    .colab-df-buttons div {\n",
              "      margin-bottom: 4px;\n",
              "    }\n",
              "\n",
              "    [theme=dark] .colab-df-convert {\n",
              "      background-color: #3B4455;\n",
              "      fill: #D2E3FC;\n",
              "    }\n",
              "\n",
              "    [theme=dark] .colab-df-convert:hover {\n",
              "      background-color: #434B5C;\n",
              "      box-shadow: 0px 1px 3px 1px rgba(0, 0, 0, 0.15);\n",
              "      filter: drop-shadow(0px 1px 2px rgba(0, 0, 0, 0.3));\n",
              "      fill: #FFFFFF;\n",
              "    }\n",
              "  </style>\n",
              "\n",
              "    <script>\n",
              "      const buttonEl =\n",
              "        document.querySelector('#df-418f2562-6672-47ca-9d23-f124b4ccb104 button.colab-df-convert');\n",
              "      buttonEl.style.display =\n",
              "        google.colab.kernel.accessAllowed ? 'block' : 'none';\n",
              "\n",
              "      async function convertToInteractive(key) {\n",
              "        const element = document.querySelector('#df-418f2562-6672-47ca-9d23-f124b4ccb104');\n",
              "        const dataTable =\n",
              "          await google.colab.kernel.invokeFunction('convertToInteractive',\n",
              "                                                    [key], {});\n",
              "        if (!dataTable) return;\n",
              "\n",
              "        const docLinkHtml = 'Like what you see? Visit the ' +\n",
              "          '<a target=\"_blank\" href=https://colab.research.google.com/notebooks/data_table.ipynb>data table notebook</a>'\n",
              "          + ' to learn more about interactive tables.';\n",
              "        element.innerHTML = '';\n",
              "        dataTable['output_type'] = 'display_data';\n",
              "        await google.colab.output.renderOutput(dataTable, element);\n",
              "        const docLink = document.createElement('div');\n",
              "        docLink.innerHTML = docLinkHtml;\n",
              "        element.appendChild(docLink);\n",
              "      }\n",
              "    </script>\n",
              "  </div>\n",
              "\n",
              "\n",
              "<div id=\"df-db4c03f5-804d-44de-a099-17110fd583fb\">\n",
              "  <button class=\"colab-df-quickchart\" onclick=\"quickchart('df-db4c03f5-804d-44de-a099-17110fd583fb')\"\n",
              "            title=\"Suggest charts.\"\n",
              "            style=\"display:none;\">\n",
              "\n",
              "<svg xmlns=\"http://www.w3.org/2000/svg\" height=\"24px\"viewBox=\"0 0 24 24\"\n",
              "     width=\"24px\">\n",
              "    <g>\n",
              "        <path d=\"M19 3H5c-1.1 0-2 .9-2 2v14c0 1.1.9 2 2 2h14c1.1 0 2-.9 2-2V5c0-1.1-.9-2-2-2zM9 17H7v-7h2v7zm4 0h-2V7h2v10zm4 0h-2v-4h2v4z\"/>\n",
              "    </g>\n",
              "</svg>\n",
              "  </button>\n",
              "\n",
              "<style>\n",
              "  .colab-df-quickchart {\n",
              "      --bg-color: #E8F0FE;\n",
              "      --fill-color: #1967D2;\n",
              "      --hover-bg-color: #E2EBFA;\n",
              "      --hover-fill-color: #174EA6;\n",
              "      --disabled-fill-color: #AAA;\n",
              "      --disabled-bg-color: #DDD;\n",
              "  }\n",
              "\n",
              "  [theme=dark] .colab-df-quickchart {\n",
              "      --bg-color: #3B4455;\n",
              "      --fill-color: #D2E3FC;\n",
              "      --hover-bg-color: #434B5C;\n",
              "      --hover-fill-color: #FFFFFF;\n",
              "      --disabled-bg-color: #3B4455;\n",
              "      --disabled-fill-color: #666;\n",
              "  }\n",
              "\n",
              "  .colab-df-quickchart {\n",
              "    background-color: var(--bg-color);\n",
              "    border: none;\n",
              "    border-radius: 50%;\n",
              "    cursor: pointer;\n",
              "    display: none;\n",
              "    fill: var(--fill-color);\n",
              "    height: 32px;\n",
              "    padding: 0;\n",
              "    width: 32px;\n",
              "  }\n",
              "\n",
              "  .colab-df-quickchart:hover {\n",
              "    background-color: var(--hover-bg-color);\n",
              "    box-shadow: 0 1px 2px rgba(60, 64, 67, 0.3), 0 1px 3px 1px rgba(60, 64, 67, 0.15);\n",
              "    fill: var(--button-hover-fill-color);\n",
              "  }\n",
              "\n",
              "  .colab-df-quickchart-complete:disabled,\n",
              "  .colab-df-quickchart-complete:disabled:hover {\n",
              "    background-color: var(--disabled-bg-color);\n",
              "    fill: var(--disabled-fill-color);\n",
              "    box-shadow: none;\n",
              "  }\n",
              "\n",
              "  .colab-df-spinner {\n",
              "    border: 2px solid var(--fill-color);\n",
              "    border-color: transparent;\n",
              "    border-bottom-color: var(--fill-color);\n",
              "    animation:\n",
              "      spin 1s steps(1) infinite;\n",
              "  }\n",
              "\n",
              "  @keyframes spin {\n",
              "    0% {\n",
              "      border-color: transparent;\n",
              "      border-bottom-color: var(--fill-color);\n",
              "      border-left-color: var(--fill-color);\n",
              "    }\n",
              "    20% {\n",
              "      border-color: transparent;\n",
              "      border-left-color: var(--fill-color);\n",
              "      border-top-color: var(--fill-color);\n",
              "    }\n",
              "    30% {\n",
              "      border-color: transparent;\n",
              "      border-left-color: var(--fill-color);\n",
              "      border-top-color: var(--fill-color);\n",
              "      border-right-color: var(--fill-color);\n",
              "    }\n",
              "    40% {\n",
              "      border-color: transparent;\n",
              "      border-right-color: var(--fill-color);\n",
              "      border-top-color: var(--fill-color);\n",
              "    }\n",
              "    60% {\n",
              "      border-color: transparent;\n",
              "      border-right-color: var(--fill-color);\n",
              "    }\n",
              "    80% {\n",
              "      border-color: transparent;\n",
              "      border-right-color: var(--fill-color);\n",
              "      border-bottom-color: var(--fill-color);\n",
              "    }\n",
              "    90% {\n",
              "      border-color: transparent;\n",
              "      border-bottom-color: var(--fill-color);\n",
              "    }\n",
              "  }\n",
              "</style>\n",
              "\n",
              "  <script>\n",
              "    async function quickchart(key) {\n",
              "      const quickchartButtonEl =\n",
              "        document.querySelector('#' + key + ' button');\n",
              "      quickchartButtonEl.disabled = true;  // To prevent multiple clicks.\n",
              "      quickchartButtonEl.classList.add('colab-df-spinner');\n",
              "      try {\n",
              "        const charts = await google.colab.kernel.invokeFunction(\n",
              "            'suggestCharts', [key], {});\n",
              "      } catch (error) {\n",
              "        console.error('Error during call to suggestCharts:', error);\n",
              "      }\n",
              "      quickchartButtonEl.classList.remove('colab-df-spinner');\n",
              "      quickchartButtonEl.classList.add('colab-df-quickchart-complete');\n",
              "    }\n",
              "    (() => {\n",
              "      let quickchartButtonEl =\n",
              "        document.querySelector('#df-db4c03f5-804d-44de-a099-17110fd583fb button');\n",
              "      quickchartButtonEl.style.display =\n",
              "        google.colab.kernel.accessAllowed ? 'block' : 'none';\n",
              "    })();\n",
              "  </script>\n",
              "</div>\n",
              "    </div>\n",
              "  </div>\n"
            ]
          },
          "metadata": {},
          "execution_count": 1
        }
      ],
      "source": [
        "import pandas as pd\n",
        "import numpy as np\n",
        "sales = pd.read_csv(\"/content/Sales Data.csv\")\n",
        "sales"
      ]
    },
    {
      "cell_type": "code",
      "source": [
        "# Check for missing values\n",
        "print(sales.isnull().sum())\n",
        "# Handle missing values\n",
        "sales.dropna(inplace=True)"
      ],
      "metadata": {
        "colab": {
          "base_uri": "https://localhost:8080/"
        },
        "id": "FC2DUTE2tDvS",
        "outputId": "d55da9fa-7b72-4fc4-c74d-245c462d5c55"
      },
      "execution_count": 2,
      "outputs": [
        {
          "output_type": "stream",
          "name": "stdout",
          "text": [
            "Sno.                0\n",
            "Order ID            0\n",
            "Product             0\n",
            "Quantity Ordered    0\n",
            "Price Each          0\n",
            "Order Date          0\n",
            "Purchase Address    0\n",
            "Month               0\n",
            "Sales               0\n",
            "City                0\n",
            "Hour                0\n",
            "dtype: int64\n"
          ]
        }
      ]
    },
    {
      "cell_type": "code",
      "source": [
        "duplicate_rows_count = sales.duplicated().sum()\n",
        "print(duplicate_rows_count)\n",
        "sales.drop_duplicates(inplace=True)"
      ],
      "metadata": {
        "colab": {
          "base_uri": "https://localhost:8080/"
        },
        "id": "Xqaq3CkytJ8h",
        "outputId": "bcb6a227-b6c5-4ebb-d11b-f3d138d1ea1e"
      },
      "execution_count": 3,
      "outputs": [
        {
          "output_type": "stream",
          "name": "stdout",
          "text": [
            "0\n"
          ]
        }
      ]
    },
    {
      "cell_type": "code",
      "source": [
        "sales.shape"
      ],
      "metadata": {
        "colab": {
          "base_uri": "https://localhost:8080/"
        },
        "id": "yfVup7BLtput",
        "outputId": "09ae0f40-ed07-480d-8b43-32ae19b18c58"
      },
      "execution_count": 4,
      "outputs": [
        {
          "output_type": "execute_result",
          "data": {
            "text/plain": [
              "(185950, 11)"
            ]
          },
          "metadata": {},
          "execution_count": 4
        }
      ]
    },
    {
      "cell_type": "code",
      "source": [
        "sales.info()"
      ],
      "metadata": {
        "colab": {
          "base_uri": "https://localhost:8080/"
        },
        "id": "IvXeCKN3uFCo",
        "outputId": "8d2014c3-00bf-4587-e54c-88ddabaae35b"
      },
      "execution_count": 5,
      "outputs": [
        {
          "output_type": "stream",
          "name": "stdout",
          "text": [
            "<class 'pandas.core.frame.DataFrame'>\n",
            "Int64Index: 185950 entries, 0 to 185949\n",
            "Data columns (total 11 columns):\n",
            " #   Column            Non-Null Count   Dtype  \n",
            "---  ------            --------------   -----  \n",
            " 0   Sno.              185950 non-null  int64  \n",
            " 1   Order ID          185950 non-null  int64  \n",
            " 2   Product           185950 non-null  object \n",
            " 3   Quantity Ordered  185950 non-null  int64  \n",
            " 4   Price Each        185950 non-null  float64\n",
            " 5   Order Date        185950 non-null  object \n",
            " 6   Purchase Address  185950 non-null  object \n",
            " 7   Month             185950 non-null  int64  \n",
            " 8   Sales             185950 non-null  float64\n",
            " 9   City              185950 non-null  object \n",
            " 10  Hour              185950 non-null  int64  \n",
            "dtypes: float64(2), int64(5), object(4)\n",
            "memory usage: 17.0+ MB\n"
          ]
        }
      ]
    },
    {
      "cell_type": "code",
      "source": [
        "# Calculate summary statistics\n",
        "print(sales.describe())"
      ],
      "metadata": {
        "colab": {
          "base_uri": "https://localhost:8080/"
        },
        "id": "ctncrBRmw3zg",
        "outputId": "f986a406-a2f4-47f7-f501-78085cabac69"
      },
      "execution_count": 6,
      "outputs": [
        {
          "output_type": "stream",
          "name": "stdout",
          "text": [
            "                Sno.       Order ID  Quantity Ordered     Price Each  \\\n",
            "count  185950.000000  185950.000000     185950.000000  185950.000000   \n",
            "mean    92975.500000  230417.569379          1.124383     184.399735   \n",
            "std     53679.285615   51512.737110          0.442793     332.731330   \n",
            "min         1.000000  141234.000000          1.000000       2.990000   \n",
            "25%     46488.250000  185831.250000          1.000000      11.950000   \n",
            "50%     92975.500000  230367.500000          1.000000      14.950000   \n",
            "75%    139462.750000  275035.750000          1.000000     150.000000   \n",
            "max    185950.000000  319670.000000          9.000000    1700.000000   \n",
            "\n",
            "               Month          Sales           Hour  \n",
            "count  185950.000000  185950.000000  185950.000000  \n",
            "mean        7.059140     185.490917      14.413305  \n",
            "std         3.502996     332.919771       5.423416  \n",
            "min         1.000000       2.990000       0.000000  \n",
            "25%         4.000000      11.950000      11.000000  \n",
            "50%         7.000000      14.950000      15.000000  \n",
            "75%        10.000000     150.000000      19.000000  \n",
            "max        12.000000    3400.000000      23.000000  \n"
          ]
        }
      ]
    },
    {
      "cell_type": "code",
      "source": [
        "# Calculate mean for numerical variables\n",
        "mean_values = sales.mean()\n",
        "print(\"Mean Values:\",mean_values)"
      ],
      "metadata": {
        "colab": {
          "base_uri": "https://localhost:8080/"
        },
        "id": "teKNU0Siw8xo",
        "outputId": "3198d288-2fab-448c-a580-de80bed9e598"
      },
      "execution_count": 7,
      "outputs": [
        {
          "output_type": "stream",
          "name": "stdout",
          "text": [
            "Mean Values: Sno.                 92975.500000\n",
            "Order ID            230417.569379\n",
            "Quantity Ordered         1.124383\n",
            "Price Each             184.399735\n",
            "Month                    7.059140\n",
            "Sales                  185.490917\n",
            "Hour                    14.413305\n",
            "dtype: float64\n"
          ]
        },
        {
          "output_type": "stream",
          "name": "stderr",
          "text": [
            "<ipython-input-7-db863322ea61>:2: FutureWarning: The default value of numeric_only in DataFrame.mean is deprecated. In a future version, it will default to False. In addition, specifying 'numeric_only=None' is deprecated. Select only valid columns or specify the value of numeric_only to silence this warning.\n",
            "  mean_values = sales.mean()\n"
          ]
        }
      ]
    },
    {
      "cell_type": "code",
      "source": [
        "# Calculate median for numerical variables\n",
        "median_values = sales.median()\n",
        "print(\"Median Values:\",median_values)"
      ],
      "metadata": {
        "colab": {
          "base_uri": "https://localhost:8080/"
        },
        "id": "sl3xWUZzw_1W",
        "outputId": "2a88ad95-22c5-4a51-868d-997aa885c2c7"
      },
      "execution_count": 8,
      "outputs": [
        {
          "output_type": "stream",
          "name": "stdout",
          "text": [
            "Median Values: Sno.                 92975.50\n",
            "Order ID            230367.50\n",
            "Quantity Ordered         1.00\n",
            "Price Each              14.95\n",
            "Month                    7.00\n",
            "Sales                   14.95\n",
            "Hour                    15.00\n",
            "dtype: float64\n"
          ]
        },
        {
          "output_type": "stream",
          "name": "stderr",
          "text": [
            "<ipython-input-8-bdf64833e561>:2: FutureWarning: The default value of numeric_only in DataFrame.median is deprecated. In a future version, it will default to False. In addition, specifying 'numeric_only=None' is deprecated. Select only valid columns or specify the value of numeric_only to silence this warning.\n",
            "  median_values = sales.median()\n"
          ]
        }
      ]
    },
    {
      "cell_type": "code",
      "source": [
        "# Calculate mode for numerical variables (mode() can return multiple modes, so we need to handle it accordingly)\n",
        "mode_values = sales.mode().iloc[0]  # Select the first row (most frequent values) as the mode\n",
        "print(\"Mode Values:\",mode_values)"
      ],
      "metadata": {
        "colab": {
          "base_uri": "https://localhost:8080/"
        },
        "id": "MpaIMd_dxDAQ",
        "outputId": "67f1fa3a-d416-4107-ace7-4ebf8301dfa3"
      },
      "execution_count": 9,
      "outputs": [
        {
          "output_type": "stream",
          "name": "stdout",
          "text": [
            "Mode Values: Sno.                                                     1\n",
            "Order ID                                          160873.0\n",
            "Product                               USB-C Charging Cable\n",
            "Quantity Ordered                                       1.0\n",
            "Price Each                                           11.95\n",
            "Order Date                                      17/12/2019\n",
            "Purchase Address    193 Forest St, San Francisco, CA 94016\n",
            "Month                                                 12.0\n",
            "Sales                                                14.95\n",
            "City                                         San Francisco\n",
            "Hour                                                  19.0\n",
            "Name: 0, dtype: object\n"
          ]
        }
      ]
    },
    {
      "cell_type": "code",
      "source": [
        "# Calculate standard deviation for numerical variables\n",
        "std_values = sales.std()\n",
        "print(\"Standard Deviation:\",std_values)"
      ],
      "metadata": {
        "colab": {
          "base_uri": "https://localhost:8080/"
        },
        "id": "U_1WaxZOxFrG",
        "outputId": "b39d45e2-5dbe-49fb-c2bf-324e030eed6d"
      },
      "execution_count": 10,
      "outputs": [
        {
          "output_type": "stream",
          "name": "stdout",
          "text": [
            "Standard Deviation: Sno.                53679.285615\n",
            "Order ID            51512.737110\n",
            "Quantity Ordered        0.442793\n",
            "Price Each            332.731330\n",
            "Month                   3.502996\n",
            "Sales                 332.919771\n",
            "Hour                    5.423416\n",
            "dtype: float64\n"
          ]
        },
        {
          "output_type": "stream",
          "name": "stderr",
          "text": [
            "<ipython-input-10-4549af438785>:2: FutureWarning: The default value of numeric_only in DataFrame.std is deprecated. In a future version, it will default to False. In addition, specifying 'numeric_only=None' is deprecated. Select only valid columns or specify the value of numeric_only to silence this warning.\n",
            "  std_values = sales.std()\n"
          ]
        }
      ]
    },
    {
      "cell_type": "markdown",
      "source": [
        "**1) What are the trends in sales over time?**"
      ],
      "metadata": {
        "id": "DmOQgHMex2eL"
      }
    },
    {
      "cell_type": "code",
      "source": [
        "import pandas as pd\n",
        "import matplotlib.pyplot as plt\n",
        "\n",
        "# Assuming you have a DataFrame named 'sales' with columns 'Order Date' and 'sales_amount'\n",
        "sales['Order Date'] = pd.to_datetime(sales['Order Date'])\n",
        "sales['month'] = sales['Order Date'].dt.to_period('M')\n",
        "sales_over_time = sales.groupby('month')['Sales'].sum()\n",
        "\n",
        "# Convert the Period index to strings for plotting\n",
        "sales_over_time.index = sales_over_time.index.astype(str)\n",
        "\n",
        "plt.figure(figsize=(12, 6))\n",
        "plt.plot(sales_over_time.index, sales_over_time.values, marker='o')\n",
        "plt.xlabel('Month')\n",
        "plt.ylabel('Total Sales')\n",
        "plt.title('Sales Trends Over Time')\n",
        "plt.xticks(rotation=45)\n",
        "plt.show()\n",
        "\n"
      ],
      "metadata": {
        "colab": {
          "base_uri": "https://localhost:8080/",
          "height": 656
        },
        "id": "SUlsio6QxME5",
        "outputId": "3b3b6af8-3845-4e2a-e97a-37ea98ce06e8"
      },
      "execution_count": 11,
      "outputs": [
        {
          "output_type": "stream",
          "name": "stderr",
          "text": [
            "<ipython-input-11-dddbba13e3c8>:5: UserWarning: Parsing dates in DD/MM/YYYY format when dayfirst=False (the default) was specified. This may lead to inconsistently parsed dates! Specify a format to ensure consistent parsing.\n",
            "  sales['Order Date'] = pd.to_datetime(sales['Order Date'])\n"
          ]
        },
        {
          "output_type": "display_data",
          "data": {
            "text/plain": [
              "<Figure size 1200x600 with 1 Axes>"
            ],
            "image/png": "[encoded data removed]"
          },
          "metadata": {}
        }
      ]
    },
    {
      "cell_type": "markdown",
      "source": [
        "**2) Which products are the best sellers?**"
      ],
      "metadata": {
        "id": "DvIlEpD2xwoP"
      }
    },
    {
      "cell_type": "code",
      "source": [
        "best_selling_products = sales.groupby('Order ID')['Quantity Ordered'].sum().nlargest(10)\n",
        "print(best_selling_products)\n"
      ],
      "metadata": {
        "colab": {
          "base_uri": "https://localhost:8080/"
        },
        "id": "wSvqgrGkxL7s",
        "outputId": "1df4bb08-8948-433b-f5cd-d25b8ecfc392"
      },
      "execution_count": 12,
      "outputs": [
        {
          "output_type": "stream",
          "name": "stdout",
          "text": [
            "Order ID\n",
            "211097    9\n",
            "226483    9\n",
            "227096    9\n",
            "224719    8\n",
            "237807    8\n",
            "241241    8\n",
            "261442    8\n",
            "278566    8\n",
            "288689    8\n",
            "291034    8\n",
            "Name: Quantity Ordered, dtype: int64\n"
          ]
        }
      ]
    },
    {
      "cell_type": "markdown",
      "source": [
        "**3) What is the most profitable product?**"
      ],
      "metadata": {
        "id": "wfZoD9xexsNA"
      }
    },
    {
      "cell_type": "code",
      "source": [
        "most_profitable_product = sales.groupby('Order ID')['Price Each'].sum().idxmax()\n",
        "print(f\"The most profitable product is {most_profitable_product}\")\n"
      ],
      "metadata": {
        "colab": {
          "base_uri": "https://localhost:8080/"
        },
        "id": "fYz9gZL2xL2A",
        "outputId": "902dedad-9ccb-4f98-b769-bd1dac573fb0"
      },
      "execution_count": 13,
      "outputs": [
        {
          "output_type": "stream",
          "name": "stdout",
          "text": [
            "The most profitable product is 202212\n"
          ]
        }
      ]
    },
    {
      "cell_type": "markdown",
      "source": [
        "**4) What are the top five popular product demographics?**"
      ],
      "metadata": {
        "id": "fgC-Td5gxnVN"
      }
    },
    {
      "cell_type": "code",
      "source": [
        "import seaborn as sns\n",
        "import matplotlib.pyplot as plt\n",
        "\n",
        "# Assuming you have a DataFrame named 'sales' with columns 'Product' and 'sales_amount'\n",
        "# Group by 'Product' and sum the 'sales_amount' to find total sales per product\n",
        "product_sales = sales.groupby('Product')['Sales'].sum().reset_index()\n",
        "\n",
        "# Sort the products by total sales in descending order and get the top 4\n",
        "top_5_products = product_sales.sort_values(by='Sales', ascending=False).head(5)\n",
        "\n",
        "plt.figure(figsize=(12, 6))\n",
        "\n",
        "sns.barplot(data=top_5_products, x='Product', y='Sales')\n",
        "plt.title('Top 5 Products by Sales')\n",
        "plt.xlabel('Product')\n",
        "plt.ylabel('Total Sales')\n",
        "plt.xticks(rotation=45)\n",
        "plt.show()\n"
      ],
      "metadata": {
        "colab": {
          "base_uri": "https://localhost:8080/",
          "height": 679
        },
        "id": "WCX4y-bKN7Cr",
        "outputId": "2663077f-7313-4be2-e8f2-124571b247dd"
      },
      "execution_count": 14,
      "outputs": [
        {
          "output_type": "display_data",
          "data": {
            "text/plain": [
              "<Figure size 1200x600 with 1 Axes>"
            ],
            "image/png": "[encoded data removed]"
          },
          "metadata": {}
        }
      ]
    },
    {
      "cell_type": "markdown",
      "source": [
        "**5) What are the best times of year to sell?**"
      ],
      "metadata": {
        "id": "ikmG9pCPxhlc"
      }
    },
    {
      "cell_type": "code",
      "source": [
        "import pandas as pd\n",
        "import seaborn as sns\n",
        "import matplotlib.pyplot as plt\n",
        "\n",
        "# Assuming you have a DataFrame named 'sales' with a 'Order Date' column\n",
        "# Convert 'Order Date' to datetime format\n",
        "sales['Order Date'] = pd.to_datetime(sales['Order Date'])\n",
        "\n",
        "# Group by month and sum the 'Sales' column\n",
        "monthly_sales = sales.groupby(sales['Order Date'].dt.strftime('%B'))['Sales'].sum()\n",
        "monthly_sales = monthly_sales.reindex(['January', 'February', 'March', 'April', 'May', 'June', 'July', 'August', 'September', 'October', 'November', 'December'])\n",
        "\n",
        "plt.figure(figsize=(12, 6))\n",
        "sns.barplot(x=monthly_sales.index, y=monthly_sales.values)\n",
        "plt.title('Monthly Sales')\n",
        "plt.xlabel('Month')\n",
        "plt.ylabel('Total Sales')\n",
        "plt.xticks(rotation=45)\n",
        "plt.show()\n",
        "\n"
      ],
      "metadata": {
        "colab": {
          "base_uri": "https://localhost:8080/",
          "height": 614
        },
        "id": "ILLgdc2bxLqA",
        "outputId": "dc80daac-68d0-43ef-ddde-49b5e178c8d5"
      },
      "execution_count": 15,
      "outputs": [
        {
          "output_type": "display_data",
          "data": {
            "text/plain": [
              "<Figure size 1200x600 with 1 Axes>"
            ],
            "image/png": "[encoded data removed]"
          },
          "metadata": {}
        }
      ]
    },
    {
      "cell_type": "markdown",
      "source": [
        "**6) What are the best marketing channels?**"
      ],
      "metadata": {
        "id": "0DnQyujzxehx"
      }
    },
    {
      "cell_type": "code",
      "source": [
        "marketing_channels = sales.groupby('Product')['Sales'].sum().nlargest(10)\n",
        "print(marketing_channels)\n",
        "\n",
        "\n"
      ],
      "metadata": {
        "colab": {
          "base_uri": "https://localhost:8080/"
        },
        "id": "dv4Wq85OxLis",
        "outputId": "8174cd72-6518-4cd9-d75d-1f8e125fbf76"
      },
      "execution_count": 16,
      "outputs": [
        {
          "output_type": "stream",
          "name": "stdout",
          "text": [
            "Product\n",
            "Macbook Pro Laptop            8037600.00\n",
            "iPhone                        4794300.00\n",
            "ThinkPad Laptop               4129958.70\n",
            "Google Phone                  3319200.00\n",
            "27in 4K Gaming Monitor        2435097.56\n",
            "34in Ultrawide Monitor        2355558.01\n",
            "Apple Airpods Headphones      2349150.00\n",
            "Flatscreen TV                 1445700.00\n",
            "Bose SoundSport Headphones    1345565.43\n",
            "27in FHD Monitor              1132424.50\n",
            "Name: Sales, dtype: float64\n"
          ]
        }
      ]
    }
  ]
}